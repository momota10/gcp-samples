{
 "cells": [
  {
   "cell_type": "code",
   "execution_count": null,
   "metadata": {},
   "outputs": [],
   "source": [
    "from google.cloud import storage"
   ]
  },
  {
   "cell_type": "code",
   "execution_count": null,
   "metadata": {},
   "outputs": [],
   "source": [
    "project_id = \"\"\n",
    "bucket_name = \"\"\n",
    "prefix = \"\""
   ]
  },
  {
   "cell_type": "code",
   "execution_count": null,
   "metadata": {},
   "outputs": [],
   "source": [
    "client = storage.Client(project=project_id)\n",
    "blobs = client.list_blobs(bucket_name, prefix=prefix)\n",
    "\n",
    "\n",
    "for blob in blobs:\n",
    "    print(blob.name)\n",
    "    print('Blob: {}'.format(blob.name))\n",
    "    print('Bucket: {}'.format(blob.bucket.name))\n",
    "    print('Storage class: {}'.format(blob.storage_class))\n",
    "    print('ID: {}'.format(blob.id))\n",
    "    print('Size: {} bytes'.format(blob.size))\n",
    "    print('Updated: {}'.format(blob.updated))\n",
    "    print('Generation: {}'.format(blob.generation))\n",
    "    print('Metageneration: {}'.format(blob.metageneration))\n",
    "    print('Etag: {}'.format(blob.etag))\n",
    "    print('Owner: {}'.format(blob.owner))\n",
    "    print('Component count: {}'.format(blob.component_count))\n",
    "    print('Crc32c: {}'.format(blob.crc32c))\n",
    "    print('md5_hash: {}'.format(blob.md5_hash))\n",
    "    print('Cache-control: {}'.format(blob.cache_control))\n",
    "    print('Content-type: {}'.format(blob.content_type))\n",
    "    print('Content-disposition: {}'.format(blob.content_disposition))\n",
    "    print('Content-encoding: {}'.format(blob.content_encoding))\n",
    "    print('Content-language: {}'.format(blob.content_language))\n",
    "    print('Metadata: {}'.format(blob.metadata))\n",
    "    print(\"Temporary hold: \",\n",
    "          'enabled' if blob.temporary_hold else 'disabled')\n",
    "    print(\"Event based hold: \",\n",
    "          'enabled' if blob.event_based_hold else 'disabled')"
   ]
  }
 ],
 "metadata": {
  "kernelspec": {
   "display_name": "Python 3",
   "language": "python",
   "name": "python3"
  },
  "language_info": {
   "codemirror_mode": {
    "name": "ipython",
    "version": 3
   },
   "file_extension": ".py",
   "mimetype": "text/x-python",
   "name": "python",
   "nbconvert_exporter": "python",
   "pygments_lexer": "ipython3",
   "version": "3.8.0"
  }
 },
 "nbformat": 4,
 "nbformat_minor": 2
}
